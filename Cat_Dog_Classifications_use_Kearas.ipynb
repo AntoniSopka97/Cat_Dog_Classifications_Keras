{
 "cells": [
  {
   "cell_type": "code",
   "execution_count": 1,
   "id": "7df0ff3d",
   "metadata": {},
   "outputs": [],
   "source": [
    "import tensorflow as tf\n",
    "from tensorflow import keras\n",
    "from keras.models import Sequential\n",
    "from keras.layers import Activation, Dense, Flatten, BatchNormalization, Conv2D, MaxPool2D\n",
    "from keras.optimizers import Adam\n",
    "from keras.metrics import categorical_crossentropy\n",
    "from keras.preprocessing.image import ImageDataGenerator\n",
    "from sklearn.metrics import confusion_matrix\n",
    "import itertools\n",
    "import os\n",
    "import shutil\n",
    "import random\n",
    "import glob\n",
    "import warnings\n",
    "\n",
    "\n",
    "import numpy as np\n",
    "from random import randint\n",
    "from sklearn.utils import shuffle\n",
    "from sklearn.preprocessing import MinMaxScaler\n",
    "import matplotlib.pyplot as plt\n",
    "import pandas as pd\n",
    "\n",
    "%matplotlib inline"
   ]
  },
  {
   "cell_type": "code",
   "execution_count": 2,
   "id": "565e26eb",
   "metadata": {},
   "outputs": [
    {
     "name": "stdout",
     "output_type": "stream",
     "text": [
      "Num GPU: 1\n"
     ]
    }
   ],
   "source": [
    "physical_device = tf.config.experimental.list_physical_devices('GPU')\n",
    "print(\"Num GPU:\", len(physical_device))\n",
    "tf.config.experimental.set_memory_growth(physical_device[0], True)"
   ]
  },
  {
   "cell_type": "markdown",
   "id": "794a9bab",
   "metadata": {},
   "source": [
    "# Data Preparation"
   ]
  },
  {
   "cell_type": "markdown",
   "id": "955ff0ee",
   "metadata": {},
   "source": [
    "## Dataset: Cat vs Dog\n",
    "### Source: https://www.kaggle.com/c/dogs-vs-cats"
   ]
  },
  {
   "cell_type": "code",
   "execution_count": 36,
   "id": "6cdf0630",
   "metadata": {},
   "outputs": [],
   "source": [
    "# Реорганизация данных -> (тренировочная, валидационная, тестовая выборка)\n",
    "os.chdir('Dataset')\n",
    "if os.path.isdir('train/dog') is False:\n",
    "    os.makedirs('train/dog')\n",
    "    os.makedirs('train/cat')\n",
    "    os.makedirs('valid/dog')\n",
    "    os.makedirs('valid/cat')\n",
    "    os.makedirs('test/dog')\n",
    "    os.makedirs('test/cat')\n",
    "    \n",
    "\n",
    "    \n",
    "#\n",
    "#os.chdir('../../')"
   ]
  },
  {
   "cell_type": "code",
   "execution_count": 6,
   "id": "105387c2",
   "metadata": {},
   "outputs": [],
   "source": [
    "path = 'F:\\Git_Clone\\Cat_Dog_Classifications_Keras/Dataset/'"
   ]
  },
  {
   "cell_type": "code",
   "execution_count": 50,
   "id": "2c1c3a8e",
   "metadata": {},
   "outputs": [],
   "source": [
    "#get in random data\n",
    "for c in random.sample(glob.glob(path+'train/cat*'), 500):\n",
    "    shutil.move(c, path+'train/cat')\n",
    "for c in random.sample(glob.glob(path+'train/dog*'), 500):\n",
    "    shutil.move(c, path+'train/dog')\n",
    "for c in random.sample(glob.glob(path+'train/cat*'), 100):\n",
    "    shutil.move(c, path+'valid/cat')\n",
    "for c in random.sample(glob.glob(path+'train/dog*'), 100):\n",
    "    shutil.move(c, path+'valid/dog')   \n",
    "for c in random.sample(glob.glob(path+'train/cat*'), 100):\n",
    "    shutil.move(c, path+'test/cat')\n",
    "for c in random.sample(glob.glob(path+'train/dog*'), 100):\n",
    "       shutil.move(c, path+'test/dog')  "
   ]
  },
  {
   "cell_type": "code",
   "execution_count": 7,
   "id": "4eefb792",
   "metadata": {},
   "outputs": [],
   "source": [
    "train_path = path + 'train'\n",
    "valid_path = path + 'valid'\n",
    "test_path = path + 'test'"
   ]
  },
  {
   "cell_type": "code",
   "execution_count": 8,
   "id": "199adc65",
   "metadata": {},
   "outputs": [
    {
     "name": "stdout",
     "output_type": "stream",
     "text": [
      "Found 1000 images belonging to 2 classes.\n",
      "Found 200 images belonging to 2 classes.\n",
      "Found 200 images belonging to 2 classes.\n"
     ]
    }
   ],
   "source": [
    "train_bathes = ImageDataGenerator(preprocessing_function = tf.keras.applications.vgg16.preprocess_input) \\\n",
    "    .flow_from_directory(directory = train_path, target_size = (224,224),  batch_size = 16, classes = ['cat','dog'])\n",
    "valid_bathes = ImageDataGenerator(preprocessing_function = tf.keras.applications.vgg16.preprocess_input) \\\n",
    "    .flow_from_directory(directory = valid_path, target_size = (224,224), classes = ['cat','dog'], batch_size = 16)\n",
    "test_bathes = ImageDataGenerator(preprocessing_function = tf.keras.applications.vgg16.preprocess_input) \\\n",
    "    .flow_from_directory(directory = test_path, target_size = (224,224), classes = ['cat','dog'], batch_size = 16, shuffle = False)"
   ]
  },
  {
   "cell_type": "code",
   "execution_count": 63,
   "id": "f762304f",
   "metadata": {},
   "outputs": [],
   "source": [
    "#check prepare data\n",
    "imgs, labels = next(train_bathes)"
   ]
  },
  {
   "cell_type": "code",
   "execution_count": null,
   "id": "78818cb4",
   "metadata": {},
   "outputs": [],
   "source": [
    "def plot_image(images_arr):\n",
    "    fig, axes = plt.subplot"
   ]
  }
 ],
 "metadata": {
  "kernelspec": {
   "display_name": "env_name",
   "language": "python",
   "name": "env_name"
  },
  "language_info": {
   "codemirror_mode": {
    "name": "ipython",
    "version": 3
   },
   "file_extension": ".py",
   "mimetype": "text/x-python",
   "name": "python",
   "nbconvert_exporter": "python",
   "pygments_lexer": "ipython3",
   "version": "3.10.11"
  }
 },
 "nbformat": 4,
 "nbformat_minor": 5
}
